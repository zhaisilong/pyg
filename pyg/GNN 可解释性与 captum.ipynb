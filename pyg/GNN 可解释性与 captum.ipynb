{
 "cells": [
  {
   "cell_type": "markdown",
   "source": [
    "<https://colab.research.google.com/drive/1fLJbFPz0yMCQg81DdCP5I8jXw9LoggKO?usp=sharing>"
   ],
   "metadata": {
    "collapsed": false,
    "pycharm": {
     "name": "#%% md\n"
    }
   }
  },
  {
   "cell_type": "code",
   "execution_count": 1,
   "outputs": [],
   "source": [
    "%matplotlib inline\n",
    "import matplotlib.pyplot as plt"
   ],
   "metadata": {
    "collapsed": false,
    "pycharm": {
     "name": "#%%\n"
    }
   }
  },
  {
   "cell_type": "code",
   "execution_count": 2,
   "outputs": [
    {
     "name": "stderr",
     "output_type": "stream",
     "text": [
      "Downloading https://www.chrsmrrs.com/graphkerneldatasets/Mutagenicity.zip\n",
      "Extracting ./Mutagenicity/Mutagenicity.zip\n",
      "Processing...\n",
      "Done!\n"
     ]
    }
   ],
   "source": [
    "from torch_geometric.loader import DataLoader\n",
    "from torch_geometric.datasets import TUDataset\n",
    "\n",
    "path = '.'\n",
    "dataset = TUDataset(path, name='Mutagenicity').shuffle()\n",
    "test_dataset = dataset[:len(dataset) // 10]\n",
    "train_dataset = dataset[len(dataset) // 10:]\n",
    "test_loader = DataLoader(test_dataset, batch_size=128)\n",
    "train_loader = DataLoader(train_dataset, batch_size=128)"
   ],
   "metadata": {
    "collapsed": false,
    "pycharm": {
     "name": "#%%\n"
    }
   }
  },
  {
   "cell_type": "markdown",
   "source": [
    "# Visualizing the data"
   ],
   "metadata": {
    "collapsed": false,
    "pycharm": {
     "name": "#%% md\n"
    }
   }
  },
  {
   "cell_type": "code",
   "execution_count": 4,
   "outputs": [],
   "source": [
    "import networkx as nx\n",
    "import numpy as np\n",
    "\n",
    "from torch_geometric.utils import to_networkx\n",
    "\n",
    "def draw_molecule(g, edge_mask=None, draw_edge_labels=False):\n",
    "    g = g.copy().to_undirected()\n",
    "    node_labels = {}\n",
    "    for u, data in g.nodes(data=True):\n",
    "        node_labels[u] = data['name']\n",
    "    pos = nx.planar_layout(g)\n",
    "    pos = nx.spring_layout(g, pos=pos)\n",
    "    if edge_mask is None:\n",
    "        edge_color = 'black'\n",
    "        widths = None\n",
    "    else:\n",
    "        edge_color = [edge_mask[(u, v)] for u, v in g.edges()]\n",
    "        widths = [x * 10 for x in edge_color]\n",
    "    nx.draw(g, pos=pos, labels=node_labels, width=widths,\n",
    "            edge_color=edge_color, edge_cmap=plt.cm.Blues,\n",
    "            node_color='azure')\n",
    "\n",
    "    if draw_edge_labels and edge_mask is not None:\n",
    "        edge_labels = {k: ('%.2f' % v) for k, v in edge_mask.items()}\n",
    "        nx.draw_networkx_edge_labels(g, pos, edge_labels=edge_labels,\n",
    "                                    font_color='red')\n",
    "    plt.show()\n",
    "\n",
    "def to_molecule(data):\n",
    "    ATOM_MAP = ['C', 'O', 'Cl', 'H', 'N', 'F',\n",
    "                'Br', 'S', 'P', 'I', 'Na', 'K', 'Li', 'Ca']\n",
    "    g = to_networkx(data, node_attrs=['x'])\n",
    "    for u, data in g.nodes(data=True):\n",
    "        data['name'] = ATOM_MAP[data['x'].index(1.0)]\n",
    "        del data['x']\n",
    "    return g"
   ],
   "metadata": {
    "collapsed": false,
    "pycharm": {
     "name": "#%%\n"
    }
   }
  },
  {
   "cell_type": "markdown",
   "source": [
    "# Sample visualization"
   ],
   "metadata": {
    "collapsed": false,
    "pycharm": {
     "name": "#%% md\n"
    }
   }
  },
  {
   "cell_type": "code",
   "execution_count": 5,
   "outputs": [
    {
     "data": {
      "text/plain": "<Figure size 720x360 with 1 Axes>",
      "image/png": "[encoded data removed]"
     },
     "metadata": {},
     "output_type": "display_data"
    }
   ],
   "source": [
    "import random\n",
    "\n",
    "data = random.choice([t for t in train_dataset])\n",
    "mol = to_molecule(data)\n",
    "plt.figure(figsize=(10, 5))\n",
    "draw_molecule(mol)"
   ],
   "metadata": {
    "collapsed": false,
    "pycharm": {
     "name": "#%%\n"
    }
   }
  },
  {
   "cell_type": "markdown",
   "source": [
    "# Training the model"
   ],
   "metadata": {
    "collapsed": false,
    "pycharm": {
     "name": "#%% md\n"
    }
   }
  },
  {
   "cell_type": "code",
   "execution_count": 16,
   "outputs": [],
   "source": [
    "import torch\n",
    "from torch.nn import Linear\n",
    "import torch.nn.functional as F\n",
    "\n",
    "from torch_geometric.nn import GraphConv, global_add_pool\n",
    "\n",
    "class Net(torch.nn.Module):\n",
    "    def __init__(self, dim):\n",
    "        super(Net, self).__init__()\n",
    "\n",
    "        num_features = dataset.num_features\n",
    "        self.dim = dim\n",
    "\n",
    "        self.conv1 = GraphConv(num_features, dim)\n",
    "        self.conv2 = GraphConv(dim, dim)\n",
    "        self.conv3 = GraphConv(dim, dim)\n",
    "        self.conv4 = GraphConv(dim, dim)\n",
    "        self.conv5 = GraphConv(dim, dim)\n",
    "\n",
    "        self.lin1 = Linear(dim, dim)\n",
    "        self.lin2 = Linear(dim, dataset.num_classes)\n",
    "\n",
    "    def forward(self, x, edge_index, batch, edge_weight=None):\n",
    "        x = self.conv1(x, edge_index, edge_weight).relu()\n",
    "        x = self.conv2(x, edge_index, edge_weight).relu()\n",
    "        x = self.conv3(x, edge_index, edge_weight).relu()\n",
    "        x = self.conv4(x, edge_index, edge_weight).relu()\n",
    "        x = self.conv5(x, edge_index, edge_weight).relu()\n",
    "        x = global_add_pool(x, batch)\n",
    "        x = self.lin1(x).relu()\n",
    "        x = F.dropout(x, p=0.5, training=self.training)\n",
    "        x = self.lin2(x)\n",
    "        return F.log_softmax(x, dim=-1)"
   ],
   "metadata": {
    "collapsed": false,
    "pycharm": {
     "name": "#%%\n"
    }
   }
  },
  {
   "cell_type": "code",
   "execution_count": 17,
   "outputs": [],
   "source": [
    "def train(epoch):\n",
    "    model.train()\n",
    "\n",
    "    if epoch == 51:\n",
    "        for param_group in optimizer.param_groups:\n",
    "            param_group['lr'] = 0.5 * param_group['lr']\n",
    "\n",
    "    loss_all = 0\n",
    "    for data in train_loader:\n",
    "        data = data.to(device)\n",
    "        optimizer.zero_grad()\n",
    "        output = model(data.x, data.edge_index, data.batch)\n",
    "        loss = F.nll_loss(output, data.y)\n",
    "        loss.backward()\n",
    "        loss_all += loss.item() * data.num_graphs\n",
    "        optimizer.step()\n",
    "    return loss_all / len(train_dataset)"
   ],
   "metadata": {
    "collapsed": false,
    "pycharm": {
     "name": "#%%\n"
    }
   }
  },
  {
   "cell_type": "code",
   "execution_count": 18,
   "outputs": [],
   "source": [
    "def test(loader):\n",
    "    model.eval()\n",
    "\n",
    "    correct = 0\n",
    "    for data in loader:\n",
    "        data = data.to(device)\n",
    "        output = model(data.x, data.edge_index, data.batch)\n",
    "        pred = output.max(dim=1)[1]\n",
    "        correct += pred.eq(data.y).sum().item()\n",
    "    return correct / len(loader.dataset)"
   ],
   "metadata": {
    "collapsed": false,
    "pycharm": {
     "name": "#%%\n"
    }
   }
  },
  {
   "cell_type": "code",
   "execution_count": 19,
   "outputs": [
    {
     "name": "stdout",
     "output_type": "stream",
     "text": [
      "Epoch: 001, Loss: 0.8306, Train Acc: 0.6493, Test Acc: 0.6859\n",
      "Epoch: 002, Loss: 0.6258, Train Acc: 0.6532, Test Acc: 0.6952\n",
      "Epoch: 003, Loss: 0.6055, Train Acc: 0.7095, Test Acc: 0.7113\n",
      "Epoch: 004, Loss: 0.5960, Train Acc: 0.7162, Test Acc: 0.6998\n",
      "Epoch: 005, Loss: 0.5724, Train Acc: 0.7346, Test Acc: 0.7182\n",
      "Epoch: 006, Loss: 0.5581, Train Acc: 0.7472, Test Acc: 0.7021\n",
      "Epoch: 007, Loss: 0.5656, Train Acc: 0.7336, Test Acc: 0.7275\n",
      "Epoch: 008, Loss: 0.5604, Train Acc: 0.7551, Test Acc: 0.7483\n",
      "Epoch: 009, Loss: 0.5312, Train Acc: 0.7636, Test Acc: 0.7367\n",
      "Epoch: 010, Loss: 0.5218, Train Acc: 0.7666, Test Acc: 0.7460\n",
      "Epoch: 011, Loss: 0.5209, Train Acc: 0.7789, Test Acc: 0.7644\n",
      "Epoch: 012, Loss: 0.5295, Train Acc: 0.7541, Test Acc: 0.7390\n",
      "Epoch: 013, Loss: 0.5105, Train Acc: 0.7789, Test Acc: 0.7575\n",
      "Epoch: 014, Loss: 0.5159, Train Acc: 0.7646, Test Acc: 0.7413\n",
      "Epoch: 015, Loss: 0.4966, Train Acc: 0.7825, Test Acc: 0.7575\n",
      "Epoch: 016, Loss: 0.4950, Train Acc: 0.7833, Test Acc: 0.7667\n",
      "Epoch: 017, Loss: 0.4865, Train Acc: 0.7964, Test Acc: 0.7621\n",
      "Epoch: 018, Loss: 0.4718, Train Acc: 0.8074, Test Acc: 0.7806\n",
      "Epoch: 019, Loss: 0.4708, Train Acc: 0.8033, Test Acc: 0.7921\n",
      "Epoch: 020, Loss: 0.4701, Train Acc: 0.8015, Test Acc: 0.7898\n",
      "Epoch: 021, Loss: 0.4679, Train Acc: 0.8115, Test Acc: 0.7829\n",
      "Epoch: 022, Loss: 0.4626, Train Acc: 0.8056, Test Acc: 0.7921\n",
      "Epoch: 023, Loss: 0.4539, Train Acc: 0.8130, Test Acc: 0.7968\n",
      "Epoch: 024, Loss: 0.4618, Train Acc: 0.8094, Test Acc: 0.7968\n",
      "Epoch: 025, Loss: 0.4488, Train Acc: 0.8058, Test Acc: 0.7921\n",
      "Epoch: 026, Loss: 0.4571, Train Acc: 0.8079, Test Acc: 0.7945\n",
      "Epoch: 027, Loss: 0.4400, Train Acc: 0.8171, Test Acc: 0.8106\n",
      "Epoch: 028, Loss: 0.4464, Train Acc: 0.8151, Test Acc: 0.7991\n",
      "Epoch: 029, Loss: 0.4379, Train Acc: 0.8304, Test Acc: 0.8014\n",
      "Epoch: 030, Loss: 0.4217, Train Acc: 0.8307, Test Acc: 0.8014\n",
      "Epoch: 031, Loss: 0.4297, Train Acc: 0.8230, Test Acc: 0.8014\n",
      "Epoch: 032, Loss: 0.4226, Train Acc: 0.8238, Test Acc: 0.8060\n",
      "Epoch: 033, Loss: 0.4108, Train Acc: 0.8279, Test Acc: 0.8060\n",
      "Epoch: 034, Loss: 0.4099, Train Acc: 0.8381, Test Acc: 0.8060\n",
      "Epoch: 035, Loss: 0.4195, Train Acc: 0.8268, Test Acc: 0.7945\n",
      "Epoch: 036, Loss: 0.4088, Train Acc: 0.8417, Test Acc: 0.7968\n",
      "Epoch: 037, Loss: 0.4034, Train Acc: 0.8373, Test Acc: 0.8014\n",
      "Epoch: 038, Loss: 0.4040, Train Acc: 0.8307, Test Acc: 0.7898\n",
      "Epoch: 039, Loss: 0.3898, Train Acc: 0.8322, Test Acc: 0.7991\n",
      "Epoch: 040, Loss: 0.3968, Train Acc: 0.8445, Test Acc: 0.8129\n",
      "Epoch: 041, Loss: 0.3983, Train Acc: 0.8486, Test Acc: 0.8152\n",
      "Epoch: 042, Loss: 0.3945, Train Acc: 0.8504, Test Acc: 0.8106\n",
      "Epoch: 043, Loss: 0.4077, Train Acc: 0.8484, Test Acc: 0.8083\n",
      "Epoch: 044, Loss: 0.3809, Train Acc: 0.8478, Test Acc: 0.8106\n",
      "Epoch: 045, Loss: 0.3754, Train Acc: 0.8491, Test Acc: 0.8176\n",
      "Epoch: 046, Loss: 0.3836, Train Acc: 0.8499, Test Acc: 0.8060\n",
      "Epoch: 047, Loss: 0.3737, Train Acc: 0.8537, Test Acc: 0.8129\n",
      "Epoch: 048, Loss: 0.3691, Train Acc: 0.8481, Test Acc: 0.8222\n",
      "Epoch: 049, Loss: 0.3681, Train Acc: 0.8540, Test Acc: 0.8129\n",
      "Epoch: 050, Loss: 0.3638, Train Acc: 0.8507, Test Acc: 0.8152\n",
      "Epoch: 051, Loss: 0.3591, Train Acc: 0.8612, Test Acc: 0.8129\n",
      "Epoch: 052, Loss: 0.3519, Train Acc: 0.8642, Test Acc: 0.8199\n",
      "Epoch: 053, Loss: 0.3434, Train Acc: 0.8673, Test Acc: 0.8199\n",
      "Epoch: 054, Loss: 0.3539, Train Acc: 0.8653, Test Acc: 0.8129\n",
      "Epoch: 055, Loss: 0.3479, Train Acc: 0.8645, Test Acc: 0.8176\n",
      "Epoch: 056, Loss: 0.3443, Train Acc: 0.8637, Test Acc: 0.8129\n",
      "Epoch: 057, Loss: 0.3435, Train Acc: 0.8683, Test Acc: 0.8176\n",
      "Epoch: 058, Loss: 0.3393, Train Acc: 0.8650, Test Acc: 0.8222\n",
      "Epoch: 059, Loss: 0.3411, Train Acc: 0.8691, Test Acc: 0.8176\n",
      "Epoch: 060, Loss: 0.3396, Train Acc: 0.8668, Test Acc: 0.8222\n",
      "Epoch: 061, Loss: 0.3422, Train Acc: 0.8699, Test Acc: 0.8152\n",
      "Epoch: 062, Loss: 0.3320, Train Acc: 0.8706, Test Acc: 0.8222\n",
      "Epoch: 063, Loss: 0.3339, Train Acc: 0.8704, Test Acc: 0.8176\n",
      "Epoch: 064, Loss: 0.3329, Train Acc: 0.8681, Test Acc: 0.8152\n",
      "Epoch: 065, Loss: 0.3259, Train Acc: 0.8717, Test Acc: 0.8199\n",
      "Epoch: 066, Loss: 0.3327, Train Acc: 0.8719, Test Acc: 0.8176\n",
      "Epoch: 067, Loss: 0.3286, Train Acc: 0.8704, Test Acc: 0.8291\n",
      "Epoch: 068, Loss: 0.3254, Train Acc: 0.8730, Test Acc: 0.8268\n",
      "Epoch: 069, Loss: 0.3239, Train Acc: 0.8760, Test Acc: 0.8245\n",
      "Epoch: 070, Loss: 0.3172, Train Acc: 0.8737, Test Acc: 0.8176\n",
      "Epoch: 071, Loss: 0.3196, Train Acc: 0.8765, Test Acc: 0.8222\n",
      "Epoch: 072, Loss: 0.3160, Train Acc: 0.8760, Test Acc: 0.8222\n",
      "Epoch: 073, Loss: 0.3180, Train Acc: 0.8801, Test Acc: 0.8291\n",
      "Epoch: 074, Loss: 0.3203, Train Acc: 0.8801, Test Acc: 0.8268\n",
      "Epoch: 075, Loss: 0.3139, Train Acc: 0.8788, Test Acc: 0.8314\n",
      "Epoch: 076, Loss: 0.3147, Train Acc: 0.8776, Test Acc: 0.8314\n",
      "Epoch: 077, Loss: 0.3074, Train Acc: 0.8763, Test Acc: 0.8268\n",
      "Epoch: 078, Loss: 0.3074, Train Acc: 0.8822, Test Acc: 0.8291\n",
      "Epoch: 079, Loss: 0.3110, Train Acc: 0.8768, Test Acc: 0.8314\n",
      "Epoch: 080, Loss: 0.3132, Train Acc: 0.8794, Test Acc: 0.8383\n",
      "Epoch: 081, Loss: 0.3096, Train Acc: 0.8806, Test Acc: 0.8268\n",
      "Epoch: 082, Loss: 0.3039, Train Acc: 0.8773, Test Acc: 0.8268\n",
      "Epoch: 083, Loss: 0.2996, Train Acc: 0.8865, Test Acc: 0.8291\n",
      "Epoch: 084, Loss: 0.3009, Train Acc: 0.8819, Test Acc: 0.8268\n",
      "Epoch: 085, Loss: 0.2989, Train Acc: 0.8840, Test Acc: 0.8337\n",
      "Epoch: 086, Loss: 0.3014, Train Acc: 0.8806, Test Acc: 0.8314\n",
      "Epoch: 087, Loss: 0.2953, Train Acc: 0.8858, Test Acc: 0.8314\n",
      "Epoch: 088, Loss: 0.2995, Train Acc: 0.8786, Test Acc: 0.8268\n",
      "Epoch: 089, Loss: 0.2980, Train Acc: 0.8845, Test Acc: 0.8199\n",
      "Epoch: 090, Loss: 0.2943, Train Acc: 0.8888, Test Acc: 0.8337\n",
      "Epoch: 091, Loss: 0.2968, Train Acc: 0.8868, Test Acc: 0.8245\n",
      "Epoch: 092, Loss: 0.2971, Train Acc: 0.8855, Test Acc: 0.8199\n",
      "Epoch: 093, Loss: 0.2947, Train Acc: 0.8863, Test Acc: 0.8291\n",
      "Epoch: 094, Loss: 0.2873, Train Acc: 0.8858, Test Acc: 0.8314\n",
      "Epoch: 095, Loss: 0.2947, Train Acc: 0.8870, Test Acc: 0.8314\n",
      "Epoch: 096, Loss: 0.2797, Train Acc: 0.8870, Test Acc: 0.8268\n",
      "Epoch: 097, Loss: 0.2792, Train Acc: 0.8893, Test Acc: 0.8268\n",
      "Epoch: 098, Loss: 0.2965, Train Acc: 0.8850, Test Acc: 0.8176\n",
      "Epoch: 099, Loss: 0.2832, Train Acc: 0.8893, Test Acc: 0.8222\n",
      "Epoch: 100, Loss: 0.2834, Train Acc: 0.8878, Test Acc: 0.8199\n"
     ]
    }
   ],
   "source": [
    "device = torch.device('cuda' if torch.cuda.is_available() else 'cpu')\n",
    "model = Net(dim=32).to(device)\n",
    "optimizer = torch.optim.Adam(model.parameters(), lr=0.001)\n",
    "\n",
    "for epoch in range(1, 101):\n",
    "    loss = train(epoch)\n",
    "    train_acc = test(train_loader)\n",
    "    test_acc = test(test_loader)\n",
    "    print(f'Epoch: {epoch:03d}, Loss: {loss:.4f}, '\n",
    "          f'Train Acc: {train_acc:.4f}, Test Acc: {test_acc:.4f}')"
   ],
   "metadata": {
    "collapsed": false,
    "pycharm": {
     "name": "#%%\n"
    }
   }
  },
  {
   "cell_type": "code",
   "execution_count": 24,
   "outputs": [
    {
     "data": {
      "text/plain": "device(type='cpu')"
     },
     "execution_count": 24,
     "metadata": {},
     "output_type": "execute_result"
    }
   ],
   "source": [],
   "metadata": {
    "collapsed": false,
    "pycharm": {
     "name": "#%%\n"
    }
   }
  },
  {
   "cell_type": "code",
   "execution_count": 25,
   "outputs": [],
   "source": [
    "from captum.attr import Saliency, IntegratedGradients\n",
    "\n",
    "def model_forward(edge_mask, data):\n",
    "    batch = torch.zeros(data.x.shape[0], dtype=int).to(device)\n",
    "    out = model(data.x, data.edge_index, batch, edge_mask)\n",
    "    return out\n",
    "\n",
    "def explain(method, data, target=0):\n",
    "    input_mask = torch.ones(data.edge_index.shape[1]).requires_grad_(True).to(device)\n",
    "    data = data.to(device)\n",
    "    if method == 'ig':\n",
    "        ig = IntegratedGradients(model_forward)\n",
    "        mask = ig.attribute(input_mask, target=target,\n",
    "                            additional_forward_args=(data,),\n",
    "                            internal_batch_size=data.edge_index.shape[1])\n",
    "    elif method == 'saliency':\n",
    "        saliency = Saliency(model_forward)\n",
    "        mask = saliency.attribute(input_mask, target=target,\n",
    "                                  additional_forward_args=(data,))\n",
    "    else:\n",
    "        raise Exception('Unknown explanation method')\n",
    "\n",
    "    edge_mask = np.abs(mask.cpu().detach().numpy())\n",
    "    if edge_mask.max() > 0:  # avoid division by zero\n",
    "        edge_mask = edge_mask / edge_mask.max()\n",
    "    return edge_mask"
   ],
   "metadata": {
    "collapsed": false,
    "pycharm": {
     "name": "#%%\n"
    }
   }
  },
  {
   "cell_type": "code",
   "execution_count": 26,
   "outputs": [
    {
     "data": {
      "text/plain": "<Figure size 720x360 with 1 Axes>",
      "image/png": "[encoded data removed]"
     },
     "metadata": {},
     "output_type": "display_data"
    },
    {
     "data": {
      "text/plain": "<Figure size 720x360 with 1 Axes>",
      "image/png": "[encoded data removed]"
     },
     "metadata": {},
     "output_type": "display_data"
    }
   ],
   "source": [
    "import random\n",
    "from collections import defaultdict\n",
    "\n",
    "def aggregate_edge_directions(edge_mask, data):\n",
    "    edge_mask_dict = defaultdict(float)\n",
    "    for val, u, v in list(zip(edge_mask, *data.edge_index)):\n",
    "        u, v = u.item(), v.item()\n",
    "        if u > v:\n",
    "            u, v = v, u\n",
    "        edge_mask_dict[(u, v)] += val\n",
    "    return edge_mask_dict\n",
    "\n",
    "\n",
    "data = random.choice([t for t in test_dataset if not t.y.item()])\n",
    "mol = to_molecule(data)\n",
    "\n",
    "for title, method in [('Integrated Gradients', 'ig'), ('Saliency', 'saliency')]:\n",
    "    edge_mask = explain(method, data, target=0)\n",
    "    edge_mask_dict = aggregate_edge_directions(edge_mask, data)\n",
    "    plt.figure(figsize=(10, 5))\n",
    "    plt.title(title)\n",
    "    draw_molecule(mol, edge_mask_dict)"
   ],
   "metadata": {
    "collapsed": false,
    "pycharm": {
     "name": "#%%\n"
    }
   }
  },
  {
   "cell_type": "code",
   "execution_count": null,
   "outputs": [],
   "source": [],
   "metadata": {
    "collapsed": false,
    "pycharm": {
     "name": "#%%\n"
    }
   }
  }
 ],
 "metadata": {
  "kernelspec": {
   "display_name": "Python 3",
   "language": "python",
   "name": "python3"
  },
  "language_info": {
   "codemirror_mode": {
    "name": "ipython",
    "version": 2
   },
   "file_extension": ".py",
   "mimetype": "text/x-python",
   "name": "python",
   "nbconvert_exporter": "python",
   "pygments_lexer": "ipython2",
   "version": "2.7.6"
  }
 },
 "nbformat": 4,
 "nbformat_minor": 0
}