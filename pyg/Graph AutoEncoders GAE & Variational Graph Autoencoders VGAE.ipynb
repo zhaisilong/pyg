{
 "cells": [
  {
   "cell_type": "code",
   "execution_count": 1,
   "outputs": [],
   "source": [
    "import torch\n",
    "from torch_geometric.datasets import Planetoid\n",
    "import torch_geometric.transforms as T\n",
    "from torch_geometric.nn import GCNConv\n",
    "from torch_geometric.utils import train_test_split_edges"
   ],
   "metadata": {
    "collapsed": false,
    "pycharm": {
     "name": "#%%\n"
    }
   }
  },
  {
   "cell_type": "code",
   "execution_count": 3,
   "outputs": [
    {
     "name": "stderr",
     "output_type": "stream",
     "text": [
      "Downloading https://github.com/kimiyoung/planetoid/raw/master/data/ind.citeseer.x\n",
      "Downloading https://github.com/kimiyoung/planetoid/raw/master/data/ind.citeseer.tx\n",
      "Downloading https://github.com/kimiyoung/planetoid/raw/master/data/ind.citeseer.allx\n",
      "Downloading https://github.com/kimiyoung/planetoid/raw/master/data/ind.citeseer.y\n",
      "Downloading https://github.com/kimiyoung/planetoid/raw/master/data/ind.citeseer.ty\n",
      "Downloading https://github.com/kimiyoung/planetoid/raw/master/data/ind.citeseer.ally\n",
      "Downloading https://github.com/kimiyoung/planetoid/raw/master/data/ind.citeseer.graph\n",
      "Downloading https://github.com/kimiyoung/planetoid/raw/master/data/ind.citeseer.test.index\n",
      "Processing...\n",
      "Done!\n"
     ]
    },
    {
     "data": {
      "text/plain": "Data(x=[3327, 3703], edge_index=[2, 9104], y=[3327], train_mask=[3327], val_mask=[3327], test_mask=[3327])"
     },
     "execution_count": 3,
     "metadata": {},
     "output_type": "execute_result"
    }
   ],
   "source": [
    "import os\n",
    "proxy='http://127.0.0.1:10809'\n",
    "os.environ['https_proxy'] = proxy\n",
    "os.environ['http_proxy'] = proxy\n",
    "dataset = Planetoid(\"\\..\", \"CiteSeer\", transform=T.NormalizeFeatures())\n",
    "dataset.data"
   ],
   "metadata": {
    "collapsed": false,
    "pycharm": {
     "name": "#%%\n"
    }
   }
  },
  {
   "cell_type": "code",
   "execution_count": 7,
   "outputs": [
    {
     "data": {
      "text/plain": "Data(x=[3327, 3703], edge_index=[2, 9104], y=[3327])"
     },
     "execution_count": 7,
     "metadata": {},
     "output_type": "execute_result"
    }
   ],
   "source": [
    "data = dataset[0]\n",
    "data.train_mask = data.val_mask = data.test_mask = None\n",
    "data"
   ],
   "metadata": {
    "collapsed": false,
    "pycharm": {
     "name": "#%%\n"
    }
   }
  },
  {
   "cell_type": "code",
   "execution_count": 8,
   "outputs": [
    {
     "data": {
      "text/plain": "Data(x=[3327, 3703], y=[3327], val_pos_edge_index=[2, 227], test_pos_edge_index=[2, 455], train_pos_edge_index=[2, 7740], train_neg_adj_mask=[3327, 3327], val_neg_edge_index=[2, 227], test_neg_edge_index=[2, 455])"
     },
     "execution_count": 8,
     "metadata": {},
     "output_type": "execute_result"
    }
   ],
   "source": [
    "data = train_test_split_edges(data)\n",
    "data"
   ],
   "metadata": {
    "collapsed": false,
    "pycharm": {
     "name": "#%%\n"
    }
   }
  },
  {
   "cell_type": "code",
   "execution_count": 9,
   "outputs": [],
   "source": [
    "class GCNEncoder(torch.nn.Module):\n",
    "    def __init__(self, in_channels, out_channels):\n",
    "        super(GCNEncoder, self).__init__()\n",
    "        self.conv1 = GCNConv(in_channels, 2 * out_channels, cached=True) # cached only for transductive learning\n",
    "        self.conv2 = GCNConv(2 * out_channels, out_channels, cached=True) # cached only for transductive learning\n",
    "\n",
    "    def forward(self, x, edge_index):\n",
    "        x = self.conv1(x, edge_index).relu()\n",
    "        return self.conv2(x, edge_index)"
   ],
   "metadata": {
    "collapsed": false,
    "pycharm": {
     "name": "#%%\n"
    }
   }
  },
  {
   "cell_type": "code",
   "execution_count": 10,
   "outputs": [],
   "source": [
    "from torch_geometric.nn import GAE"
   ],
   "metadata": {
    "collapsed": false,
    "pycharm": {
     "name": "#%%\n"
    }
   }
  },
  {
   "cell_type": "code",
   "execution_count": 11,
   "outputs": [],
   "source": [
    "# parameters\n",
    "out_channels = 2\n",
    "num_features = dataset.num_features\n",
    "epochs = 100\n",
    "\n",
    "# model\n",
    "model = GAE(GCNEncoder(num_features, out_channels))\n",
    "\n",
    "# move to GPU (if available)\n",
    "device = torch.device('cuda' if torch.cuda.is_available() else 'cpu')\n",
    "model = model.to(device)\n",
    "x = data.x.to(device)\n",
    "train_pos_edge_index = data.train_pos_edge_index.to(device)\n",
    "\n",
    "# inizialize the optimizer\n",
    "optimizer = torch.optim.Adam(model.parameters(), lr=0.01)"
   ],
   "metadata": {
    "collapsed": false,
    "pycharm": {
     "name": "#%%\n"
    }
   }
  },
  {
   "cell_type": "code",
   "execution_count": 12,
   "outputs": [],
   "source": [
    "def train():\n",
    "    model.train()\n",
    "    optimizer.zero_grad()\n",
    "    z = model.encode(x, train_pos_edge_index)\n",
    "    loss = model.recon_loss(z, train_pos_edge_index)\n",
    "    #if args.variational:\n",
    "    #   loss = loss + (1 / data.num_nodes) * model.kl_loss()\n",
    "    loss.backward()\n",
    "    optimizer.step()\n",
    "    return float(loss)\n",
    "\n",
    "\n",
    "def test(pos_edge_index, neg_edge_index):\n",
    "    model.eval()\n",
    "    with torch.no_grad():\n",
    "        z = model.encode(x, train_pos_edge_index)\n",
    "    return model.test(z, pos_edge_index, neg_edge_index)"
   ],
   "metadata": {
    "collapsed": false,
    "pycharm": {
     "name": "#%%\n"
    }
   }
  },
  {
   "cell_type": "code",
   "execution_count": 13,
   "outputs": [
    {
     "name": "stdout",
     "output_type": "stream",
     "text": [
      "Epoch: 001, AUC: 0.6193, AP: 0.6609\n",
      "Epoch: 002, AUC: 0.6393, AP: 0.6753\n",
      "Epoch: 003, AUC: 0.6463, AP: 0.6828\n",
      "Epoch: 004, AUC: 0.6513, AP: 0.6885\n",
      "Epoch: 005, AUC: 0.6513, AP: 0.6895\n",
      "Epoch: 006, AUC: 0.6520, AP: 0.6912\n",
      "Epoch: 007, AUC: 0.6533, AP: 0.6934\n",
      "Epoch: 008, AUC: 0.6540, AP: 0.6958\n",
      "Epoch: 009, AUC: 0.6546, AP: 0.6980\n",
      "Epoch: 010, AUC: 0.6550, AP: 0.7004\n",
      "Epoch: 011, AUC: 0.6553, AP: 0.7027\n",
      "Epoch: 012, AUC: 0.6550, AP: 0.7047\n",
      "Epoch: 013, AUC: 0.6548, AP: 0.7066\n",
      "Epoch: 014, AUC: 0.6543, AP: 0.7088\n",
      "Epoch: 015, AUC: 0.6537, AP: 0.7107\n",
      "Epoch: 016, AUC: 0.6534, AP: 0.7116\n",
      "Epoch: 017, AUC: 0.6527, AP: 0.7124\n",
      "Epoch: 018, AUC: 0.6523, AP: 0.7128\n",
      "Epoch: 019, AUC: 0.6525, AP: 0.7139\n",
      "Epoch: 020, AUC: 0.6525, AP: 0.7142\n",
      "Epoch: 021, AUC: 0.6527, AP: 0.7148\n",
      "Epoch: 022, AUC: 0.6530, AP: 0.7151\n",
      "Epoch: 023, AUC: 0.6533, AP: 0.7155\n",
      "Epoch: 024, AUC: 0.6543, AP: 0.7165\n",
      "Epoch: 025, AUC: 0.6556, AP: 0.7176\n",
      "Epoch: 026, AUC: 0.6580, AP: 0.7190\n",
      "Epoch: 027, AUC: 0.6614, AP: 0.7207\n",
      "Epoch: 028, AUC: 0.6663, AP: 0.7229\n",
      "Epoch: 029, AUC: 0.6722, AP: 0.7252\n",
      "Epoch: 030, AUC: 0.6766, AP: 0.7270\n",
      "Epoch: 031, AUC: 0.6814, AP: 0.7292\n",
      "Epoch: 032, AUC: 0.6872, AP: 0.7317\n",
      "Epoch: 033, AUC: 0.6928, AP: 0.7343\n",
      "Epoch: 034, AUC: 0.7003, AP: 0.7378\n",
      "Epoch: 035, AUC: 0.7085, AP: 0.7416\n",
      "Epoch: 036, AUC: 0.7177, AP: 0.7460\n",
      "Epoch: 037, AUC: 0.7284, AP: 0.7513\n",
      "Epoch: 038, AUC: 0.7394, AP: 0.7573\n",
      "Epoch: 039, AUC: 0.7463, AP: 0.7614\n",
      "Epoch: 040, AUC: 0.7502, AP: 0.7639\n",
      "Epoch: 041, AUC: 0.7535, AP: 0.7660\n",
      "Epoch: 042, AUC: 0.7567, AP: 0.7681\n",
      "Epoch: 043, AUC: 0.7598, AP: 0.7699\n",
      "Epoch: 044, AUC: 0.7623, AP: 0.7718\n",
      "Epoch: 045, AUC: 0.7644, AP: 0.7734\n",
      "Epoch: 046, AUC: 0.7657, AP: 0.7746\n",
      "Epoch: 047, AUC: 0.7664, AP: 0.7753\n",
      "Epoch: 048, AUC: 0.7664, AP: 0.7757\n",
      "Epoch: 049, AUC: 0.7664, AP: 0.7758\n",
      "Epoch: 050, AUC: 0.7665, AP: 0.7762\n",
      "Epoch: 051, AUC: 0.7667, AP: 0.7764\n",
      "Epoch: 052, AUC: 0.7671, AP: 0.7767\n",
      "Epoch: 053, AUC: 0.7678, AP: 0.7773\n",
      "Epoch: 054, AUC: 0.7687, AP: 0.7782\n",
      "Epoch: 055, AUC: 0.7689, AP: 0.7786\n",
      "Epoch: 056, AUC: 0.7688, AP: 0.7786\n",
      "Epoch: 057, AUC: 0.7680, AP: 0.7782\n",
      "Epoch: 058, AUC: 0.7683, AP: 0.7785\n",
      "Epoch: 059, AUC: 0.7693, AP: 0.7794\n",
      "Epoch: 060, AUC: 0.7708, AP: 0.7807\n",
      "Epoch: 061, AUC: 0.7721, AP: 0.7818\n",
      "Epoch: 062, AUC: 0.7727, AP: 0.7824\n",
      "Epoch: 063, AUC: 0.7727, AP: 0.7825\n",
      "Epoch: 064, AUC: 0.7716, AP: 0.7819\n",
      "Epoch: 065, AUC: 0.7712, AP: 0.7819\n",
      "Epoch: 066, AUC: 0.7722, AP: 0.7827\n",
      "Epoch: 067, AUC: 0.7739, AP: 0.7839\n",
      "Epoch: 068, AUC: 0.7753, AP: 0.7850\n",
      "Epoch: 069, AUC: 0.7756, AP: 0.7852\n",
      "Epoch: 070, AUC: 0.7753, AP: 0.7853\n",
      "Epoch: 071, AUC: 0.7739, AP: 0.7842\n",
      "Epoch: 072, AUC: 0.7731, AP: 0.7838\n",
      "Epoch: 073, AUC: 0.7726, AP: 0.7838\n",
      "Epoch: 074, AUC: 0.7732, AP: 0.7840\n",
      "Epoch: 075, AUC: 0.7747, AP: 0.7850\n",
      "Epoch: 076, AUC: 0.7757, AP: 0.7855\n",
      "Epoch: 077, AUC: 0.7759, AP: 0.7857\n",
      "Epoch: 078, AUC: 0.7761, AP: 0.7858\n",
      "Epoch: 079, AUC: 0.7755, AP: 0.7854\n",
      "Epoch: 080, AUC: 0.7748, AP: 0.7852\n",
      "Epoch: 081, AUC: 0.7746, AP: 0.7853\n",
      "Epoch: 082, AUC: 0.7757, AP: 0.7862\n",
      "Epoch: 083, AUC: 0.7771, AP: 0.7870\n",
      "Epoch: 084, AUC: 0.7781, AP: 0.7875\n",
      "Epoch: 085, AUC: 0.7787, AP: 0.7879\n",
      "Epoch: 086, AUC: 0.7782, AP: 0.7879\n",
      "Epoch: 087, AUC: 0.7775, AP: 0.7881\n",
      "Epoch: 088, AUC: 0.7772, AP: 0.7878\n",
      "Epoch: 089, AUC: 0.7774, AP: 0.7880\n",
      "Epoch: 090, AUC: 0.7784, AP: 0.7887\n",
      "Epoch: 091, AUC: 0.7794, AP: 0.7892\n",
      "Epoch: 092, AUC: 0.7799, AP: 0.7892\n",
      "Epoch: 093, AUC: 0.7801, AP: 0.7895\n",
      "Epoch: 094, AUC: 0.7797, AP: 0.7897\n",
      "Epoch: 095, AUC: 0.7786, AP: 0.7891\n",
      "Epoch: 096, AUC: 0.7786, AP: 0.7891\n",
      "Epoch: 097, AUC: 0.7792, AP: 0.7894\n",
      "Epoch: 098, AUC: 0.7808, AP: 0.7904\n",
      "Epoch: 099, AUC: 0.7814, AP: 0.7907\n",
      "Epoch: 100, AUC: 0.7814, AP: 0.7906\n"
     ]
    }
   ],
   "source": [
    "for epoch in range(1, epochs + 1):\n",
    "    loss = train()\n",
    "\n",
    "    auc, ap = test(data.test_pos_edge_index, data.test_neg_edge_index)\n",
    "    print('Epoch: {:03d}, AUC: {:.4f}, AP: {:.4f}'.format(epoch, auc, ap))"
   ],
   "metadata": {
    "collapsed": false,
    "pycharm": {
     "name": "#%%\n"
    }
   }
  },
  {
   "cell_type": "code",
   "execution_count": 14,
   "outputs": [
    {
     "data": {
      "text/plain": "tensor([[-0.2533,  0.2618],\n        [ 1.1082, -1.1697],\n        [-0.7174,  0.7632],\n        ...,\n        [ 0.3938, -0.4146],\n        [-0.6498,  0.6862],\n        [-0.6808,  0.7216]], device='cuda:0', grad_fn=<AddBackward0>)"
     },
     "execution_count": 14,
     "metadata": {},
     "output_type": "execute_result"
    }
   ],
   "source": [
    "Z = model.encode(x, train_pos_edge_index)\n",
    "Z"
   ],
   "metadata": {
    "collapsed": false,
    "pycharm": {
     "name": "#%%\n"
    }
   }
  },
  {
   "cell_type": "code",
   "execution_count": 20,
   "outputs": [],
   "source": [
    "from torch.utils.tensorboard import SummaryWriter"
   ],
   "metadata": {
    "collapsed": false,
    "pycharm": {
     "name": "#%%\n"
    }
   }
  },
  {
   "cell_type": "code",
   "execution_count": 21,
   "outputs": [],
   "source": [
    "# parameters\n",
    "out_channels = 2\n",
    "num_features = dataset.num_features\n",
    "epochs = 100\n",
    "\n",
    "# model\n",
    "model = GAE(GCNEncoder(num_features, out_channels))\n",
    "\n",
    "# move to GPU (if available)\n",
    "device = torch.device('cuda' if torch.cuda.is_available() else 'cpu')\n",
    "model = model.to(device)\n",
    "x = data.x.to(device)\n",
    "train_pos_edge_index = data.train_pos_edge_index.to(device)\n",
    "\n",
    "# inizialize the optimizer\n",
    "optimizer = torch.optim.Adam(model.parameters(), lr=0.01)"
   ],
   "metadata": {
    "collapsed": false,
    "pycharm": {
     "name": "#%%\n"
    }
   }
  },
  {
   "cell_type": "code",
   "execution_count": 22,
   "outputs": [],
   "source": [
    "writer = SummaryWriter('runs/GAE1_experiment_'+'2d_100_epochs')"
   ],
   "metadata": {
    "collapsed": false,
    "pycharm": {
     "name": "#%%\n"
    }
   }
  },
  {
   "cell_type": "code",
   "execution_count": 23,
   "outputs": [
    {
     "name": "stdout",
     "output_type": "stream",
     "text": [
      "Epoch: 001, AUC: 0.6261, AP: 0.6633\n",
      "Epoch: 002, AUC: 0.6355, AP: 0.6783\n",
      "Epoch: 003, AUC: 0.6361, AP: 0.6785\n",
      "Epoch: 004, AUC: 0.6400, AP: 0.6814\n",
      "Epoch: 005, AUC: 0.6427, AP: 0.6844\n",
      "Epoch: 006, AUC: 0.6457, AP: 0.6878\n",
      "Epoch: 007, AUC: 0.6487, AP: 0.6918\n",
      "Epoch: 008, AUC: 0.6505, AP: 0.6939\n",
      "Epoch: 009, AUC: 0.6508, AP: 0.6947\n",
      "Epoch: 010, AUC: 0.6512, AP: 0.6957\n",
      "Epoch: 011, AUC: 0.6514, AP: 0.6965\n",
      "Epoch: 012, AUC: 0.6521, AP: 0.6982\n",
      "Epoch: 013, AUC: 0.6531, AP: 0.7003\n",
      "Epoch: 014, AUC: 0.6537, AP: 0.7024\n",
      "Epoch: 015, AUC: 0.6543, AP: 0.7045\n",
      "Epoch: 016, AUC: 0.6541, AP: 0.7063\n",
      "Epoch: 017, AUC: 0.6551, AP: 0.7089\n",
      "Epoch: 018, AUC: 0.6551, AP: 0.7104\n",
      "Epoch: 019, AUC: 0.6540, AP: 0.7112\n",
      "Epoch: 020, AUC: 0.6539, AP: 0.7124\n",
      "Epoch: 021, AUC: 0.6537, AP: 0.7134\n",
      "Epoch: 022, AUC: 0.6534, AP: 0.7138\n",
      "Epoch: 023, AUC: 0.6532, AP: 0.7143\n",
      "Epoch: 024, AUC: 0.6529, AP: 0.7148\n",
      "Epoch: 025, AUC: 0.6528, AP: 0.7151\n",
      "Epoch: 026, AUC: 0.6531, AP: 0.7155\n",
      "Epoch: 027, AUC: 0.6537, AP: 0.7162\n",
      "Epoch: 028, AUC: 0.6545, AP: 0.7168\n",
      "Epoch: 029, AUC: 0.6560, AP: 0.7178\n",
      "Epoch: 030, AUC: 0.6579, AP: 0.7190\n",
      "Epoch: 031, AUC: 0.6604, AP: 0.7205\n",
      "Epoch: 032, AUC: 0.6647, AP: 0.7227\n",
      "Epoch: 033, AUC: 0.6706, AP: 0.7253\n",
      "Epoch: 034, AUC: 0.6748, AP: 0.7270\n",
      "Epoch: 035, AUC: 0.6788, AP: 0.7287\n",
      "Epoch: 036, AUC: 0.6836, AP: 0.7306\n",
      "Epoch: 037, AUC: 0.6899, AP: 0.7334\n",
      "Epoch: 038, AUC: 0.6984, AP: 0.7369\n",
      "Epoch: 039, AUC: 0.7069, AP: 0.7409\n",
      "Epoch: 040, AUC: 0.7178, AP: 0.7458\n",
      "Epoch: 041, AUC: 0.7290, AP: 0.7515\n",
      "Epoch: 042, AUC: 0.7418, AP: 0.7581\n",
      "Epoch: 043, AUC: 0.7494, AP: 0.7627\n",
      "Epoch: 044, AUC: 0.7543, AP: 0.7656\n",
      "Epoch: 045, AUC: 0.7585, AP: 0.7683\n",
      "Epoch: 046, AUC: 0.7607, AP: 0.7699\n",
      "Epoch: 047, AUC: 0.7625, AP: 0.7711\n",
      "Epoch: 048, AUC: 0.7646, AP: 0.7727\n",
      "Epoch: 049, AUC: 0.7662, AP: 0.7740\n",
      "Epoch: 050, AUC: 0.7673, AP: 0.7749\n",
      "Epoch: 051, AUC: 0.7680, AP: 0.7757\n",
      "Epoch: 052, AUC: 0.7684, AP: 0.7761\n",
      "Epoch: 053, AUC: 0.7688, AP: 0.7766\n",
      "Epoch: 054, AUC: 0.7692, AP: 0.7770\n",
      "Epoch: 055, AUC: 0.7692, AP: 0.7771\n",
      "Epoch: 056, AUC: 0.7695, AP: 0.7777\n",
      "Epoch: 057, AUC: 0.7698, AP: 0.7781\n",
      "Epoch: 058, AUC: 0.7705, AP: 0.7788\n",
      "Epoch: 059, AUC: 0.7711, AP: 0.7795\n",
      "Epoch: 060, AUC: 0.7718, AP: 0.7803\n",
      "Epoch: 061, AUC: 0.7715, AP: 0.7806\n",
      "Epoch: 062, AUC: 0.7710, AP: 0.7810\n",
      "Epoch: 063, AUC: 0.7713, AP: 0.7814\n",
      "Epoch: 064, AUC: 0.7724, AP: 0.7822\n",
      "Epoch: 065, AUC: 0.7737, AP: 0.7833\n",
      "Epoch: 066, AUC: 0.7738, AP: 0.7833\n",
      "Epoch: 067, AUC: 0.7728, AP: 0.7831\n",
      "Epoch: 068, AUC: 0.7719, AP: 0.7831\n",
      "Epoch: 069, AUC: 0.7726, AP: 0.7837\n",
      "Epoch: 070, AUC: 0.7741, AP: 0.7845\n",
      "Epoch: 071, AUC: 0.7760, AP: 0.7860\n",
      "Epoch: 072, AUC: 0.7768, AP: 0.7864\n",
      "Epoch: 073, AUC: 0.7771, AP: 0.7867\n",
      "Epoch: 074, AUC: 0.7765, AP: 0.7865\n",
      "Epoch: 075, AUC: 0.7758, AP: 0.7864\n",
      "Epoch: 076, AUC: 0.7754, AP: 0.7865\n",
      "Epoch: 077, AUC: 0.7757, AP: 0.7865\n",
      "Epoch: 078, AUC: 0.7765, AP: 0.7869\n",
      "Epoch: 079, AUC: 0.7782, AP: 0.7880\n",
      "Epoch: 080, AUC: 0.7786, AP: 0.7883\n",
      "Epoch: 081, AUC: 0.7790, AP: 0.7885\n",
      "Epoch: 082, AUC: 0.7792, AP: 0.7889\n",
      "Epoch: 083, AUC: 0.7790, AP: 0.7891\n",
      "Epoch: 084, AUC: 0.7784, AP: 0.7891\n",
      "Epoch: 085, AUC: 0.7787, AP: 0.7894\n",
      "Epoch: 086, AUC: 0.7795, AP: 0.7897\n",
      "Epoch: 087, AUC: 0.7806, AP: 0.7901\n",
      "Epoch: 088, AUC: 0.7815, AP: 0.7905\n",
      "Epoch: 089, AUC: 0.7819, AP: 0.7908\n",
      "Epoch: 090, AUC: 0.7816, AP: 0.7910\n",
      "Epoch: 091, AUC: 0.7811, AP: 0.7913\n",
      "Epoch: 092, AUC: 0.7811, AP: 0.7916\n",
      "Epoch: 093, AUC: 0.7816, AP: 0.7919\n",
      "Epoch: 094, AUC: 0.7820, AP: 0.7922\n",
      "Epoch: 095, AUC: 0.7830, AP: 0.7926\n",
      "Epoch: 096, AUC: 0.7840, AP: 0.7930\n",
      "Epoch: 097, AUC: 0.7842, AP: 0.7930\n",
      "Epoch: 098, AUC: 0.7840, AP: 0.7931\n",
      "Epoch: 099, AUC: 0.7833, AP: 0.7932\n",
      "Epoch: 100, AUC: 0.7828, AP: 0.7929\n"
     ]
    }
   ],
   "source": [
    "for epoch in range(1, epochs + 1):\n",
    "    loss = train()\n",
    "    auc, ap = test(data.test_pos_edge_index, data.test_neg_edge_index)\n",
    "    print('Epoch: {:03d}, AUC: {:.4f}, AP: {:.4f}'.format(epoch, auc, ap))\n",
    "\n",
    "\n",
    "    writer.add_scalar('auc train',auc,epoch) # new line\n",
    "    writer.add_scalar('ap train',ap,epoch)   # new line"
   ],
   "metadata": {
    "collapsed": false,
    "pycharm": {
     "name": "#%%\n"
    }
   }
  },
  {
   "cell_type": "code",
   "execution_count": 24,
   "outputs": [],
   "source": [
    "from torch_geometric.nn import VGAE"
   ],
   "metadata": {
    "collapsed": false,
    "pycharm": {
     "name": "#%%\n"
    }
   }
  },
  {
   "cell_type": "code",
   "execution_count": 25,
   "outputs": [
    {
     "name": "stderr",
     "output_type": "stream",
     "text": [
      "/home/seeyou/anaconda3/envs/pyg/lib/python3.8/site-packages/torch_geometric/deprecation.py:12: UserWarning: 'train_test_split_edges' is deprecated, use 'transforms.RandomLinkSplit' instead\n",
      "  warnings.warn(out)\n"
     ]
    }
   ],
   "source": [
    "dataset = Planetoid(\"\\..\", \"CiteSeer\", transform=T.NormalizeFeatures())\n",
    "data = dataset[0]\n",
    "data.train_mask = data.val_mask = data.test_mask = data.y = None\n",
    "data = train_test_split_edges(data)\n",
    "\n",
    "\n",
    "class VariationalGCNEncoder(torch.nn.Module):\n",
    "    def __init__(self, in_channels, out_channels):\n",
    "        super(VariationalGCNEncoder, self).__init__()\n",
    "        self.conv1 = GCNConv(in_channels, 2 * out_channels, cached=True) # cached only for transductive learning\n",
    "        self.conv_mu = GCNConv(2 * out_channels, out_channels, cached=True)\n",
    "        self.conv_logstd = GCNConv(2 * out_channels, out_channels, cached=True)\n",
    "\n",
    "    def forward(self, x, edge_index):\n",
    "        x = self.conv1(x, edge_index).relu()\n",
    "        return self.conv_mu(x, edge_index), self.conv_logstd(x, edge_index)"
   ],
   "metadata": {
    "collapsed": false,
    "pycharm": {
     "name": "#%%\n"
    }
   }
  },
  {
   "cell_type": "code",
   "execution_count": 26,
   "outputs": [],
   "source": [
    "out_channels = 2\n",
    "num_features = dataset.num_features\n",
    "epochs = 300\n",
    "\n",
    "\n",
    "model = VGAE(VariationalGCNEncoder(num_features, out_channels))  # new line\n",
    "\n",
    "device = torch.device('cuda' if torch.cuda.is_available() else 'cpu')\n",
    "model = model.to(device)\n",
    "x = data.x.to(device)\n",
    "train_pos_edge_index = data.train_pos_edge_index.to(device)\n",
    "optimizer = torch.optim.Adam(model.parameters(), lr=0.01)"
   ],
   "metadata": {
    "collapsed": false,
    "pycharm": {
     "name": "#%%\n"
    }
   }
  },
  {
   "cell_type": "code",
   "execution_count": 27,
   "outputs": [],
   "source": [
    "def train():\n",
    "    model.train()\n",
    "    optimizer.zero_grad()\n",
    "    z = model.encode(x, train_pos_edge_index)\n",
    "    loss = model.recon_loss(z, train_pos_edge_index)\n",
    "\n",
    "    loss = loss + (1 / data.num_nodes) * model.kl_loss()  # new line\n",
    "    loss.backward()\n",
    "    optimizer.step()\n",
    "    return float(loss)\n",
    "\n",
    "\n",
    "def test(pos_edge_index, neg_edge_index):\n",
    "    model.eval()\n",
    "    with torch.no_grad():\n",
    "        z = model.encode(x, train_pos_edge_index)\n",
    "    return model.test(z, pos_edge_index, neg_edge_index)"
   ],
   "metadata": {
    "collapsed": false,
    "pycharm": {
     "name": "#%%\n"
    }
   }
  },
  {
   "cell_type": "code",
   "execution_count": 28,
   "outputs": [
    {
     "name": "stdout",
     "output_type": "stream",
     "text": [
      "Epoch: 001, AUC: 0.6022, AP: 0.6294\n",
      "Epoch: 002, AUC: 0.6319, AP: 0.6565\n",
      "Epoch: 003, AUC: 0.6403, AP: 0.6643\n",
      "Epoch: 004, AUC: 0.6436, AP: 0.6676\n",
      "Epoch: 005, AUC: 0.6452, AP: 0.6693\n",
      "Epoch: 006, AUC: 0.6456, AP: 0.6700\n",
      "Epoch: 007, AUC: 0.6457, AP: 0.6701\n",
      "Epoch: 008, AUC: 0.6452, AP: 0.6699\n",
      "Epoch: 009, AUC: 0.6448, AP: 0.6698\n",
      "Epoch: 010, AUC: 0.6446, AP: 0.6699\n",
      "Epoch: 011, AUC: 0.6443, AP: 0.6697\n",
      "Epoch: 012, AUC: 0.6438, AP: 0.6698\n",
      "Epoch: 013, AUC: 0.6430, AP: 0.6692\n",
      "Epoch: 014, AUC: 0.6422, AP: 0.6685\n",
      "Epoch: 015, AUC: 0.6412, AP: 0.6678\n",
      "Epoch: 016, AUC: 0.6404, AP: 0.6676\n",
      "Epoch: 017, AUC: 0.6397, AP: 0.6670\n",
      "Epoch: 018, AUC: 0.6387, AP: 0.6664\n",
      "Epoch: 019, AUC: 0.6378, AP: 0.6660\n",
      "Epoch: 020, AUC: 0.6374, AP: 0.6658\n",
      "Epoch: 021, AUC: 0.6376, AP: 0.6661\n",
      "Epoch: 022, AUC: 0.6375, AP: 0.6662\n",
      "Epoch: 023, AUC: 0.6380, AP: 0.6669\n",
      "Epoch: 024, AUC: 0.6389, AP: 0.6675\n",
      "Epoch: 025, AUC: 0.6400, AP: 0.6683\n",
      "Epoch: 026, AUC: 0.6411, AP: 0.6695\n",
      "Epoch: 027, AUC: 0.6424, AP: 0.6701\n",
      "Epoch: 028, AUC: 0.6435, AP: 0.6708\n",
      "Epoch: 029, AUC: 0.6446, AP: 0.6715\n",
      "Epoch: 030, AUC: 0.6458, AP: 0.6724\n",
      "Epoch: 031, AUC: 0.6467, AP: 0.6731\n",
      "Epoch: 032, AUC: 0.6477, AP: 0.6739\n",
      "Epoch: 033, AUC: 0.6484, AP: 0.6743\n",
      "Epoch: 034, AUC: 0.6493, AP: 0.6751\n",
      "Epoch: 035, AUC: 0.6498, AP: 0.6755\n",
      "Epoch: 036, AUC: 0.6502, AP: 0.6758\n",
      "Epoch: 037, AUC: 0.6507, AP: 0.6761\n",
      "Epoch: 038, AUC: 0.6512, AP: 0.6765\n",
      "Epoch: 039, AUC: 0.6516, AP: 0.6769\n",
      "Epoch: 040, AUC: 0.6520, AP: 0.6774\n",
      "Epoch: 041, AUC: 0.6524, AP: 0.6780\n",
      "Epoch: 042, AUC: 0.6526, AP: 0.6783\n",
      "Epoch: 043, AUC: 0.6529, AP: 0.6787\n",
      "Epoch: 044, AUC: 0.6533, AP: 0.6792\n",
      "Epoch: 045, AUC: 0.6539, AP: 0.6802\n",
      "Epoch: 046, AUC: 0.6541, AP: 0.6808\n",
      "Epoch: 047, AUC: 0.6545, AP: 0.6814\n",
      "Epoch: 048, AUC: 0.6547, AP: 0.6819\n",
      "Epoch: 049, AUC: 0.6551, AP: 0.6827\n",
      "Epoch: 050, AUC: 0.6554, AP: 0.6834\n",
      "Epoch: 051, AUC: 0.6560, AP: 0.6843\n",
      "Epoch: 052, AUC: 0.6560, AP: 0.6847\n",
      "Epoch: 053, AUC: 0.6567, AP: 0.6857\n",
      "Epoch: 054, AUC: 0.6570, AP: 0.6864\n",
      "Epoch: 055, AUC: 0.6576, AP: 0.6877\n",
      "Epoch: 056, AUC: 0.6579, AP: 0.6885\n",
      "Epoch: 057, AUC: 0.6581, AP: 0.6891\n",
      "Epoch: 058, AUC: 0.6584, AP: 0.6901\n",
      "Epoch: 059, AUC: 0.6589, AP: 0.6908\n",
      "Epoch: 060, AUC: 0.6594, AP: 0.6913\n",
      "Epoch: 061, AUC: 0.6599, AP: 0.6920\n",
      "Epoch: 062, AUC: 0.6603, AP: 0.6928\n",
      "Epoch: 063, AUC: 0.6606, AP: 0.6934\n",
      "Epoch: 064, AUC: 0.6609, AP: 0.6942\n",
      "Epoch: 065, AUC: 0.6610, AP: 0.6950\n",
      "Epoch: 066, AUC: 0.6612, AP: 0.6958\n",
      "Epoch: 067, AUC: 0.6613, AP: 0.6963\n",
      "Epoch: 068, AUC: 0.6613, AP: 0.6968\n",
      "Epoch: 069, AUC: 0.6616, AP: 0.6977\n",
      "Epoch: 070, AUC: 0.6622, AP: 0.6983\n",
      "Epoch: 071, AUC: 0.6627, AP: 0.6993\n",
      "Epoch: 072, AUC: 0.6631, AP: 0.7002\n",
      "Epoch: 073, AUC: 0.6635, AP: 0.7013\n",
      "Epoch: 074, AUC: 0.6638, AP: 0.7024\n",
      "Epoch: 075, AUC: 0.6640, AP: 0.7031\n",
      "Epoch: 076, AUC: 0.6639, AP: 0.7036\n",
      "Epoch: 077, AUC: 0.6639, AP: 0.7043\n",
      "Epoch: 078, AUC: 0.6640, AP: 0.7051\n",
      "Epoch: 079, AUC: 0.6639, AP: 0.7056\n",
      "Epoch: 080, AUC: 0.6643, AP: 0.7065\n",
      "Epoch: 081, AUC: 0.6644, AP: 0.7072\n",
      "Epoch: 082, AUC: 0.6644, AP: 0.7081\n",
      "Epoch: 083, AUC: 0.6646, AP: 0.7090\n",
      "Epoch: 084, AUC: 0.6648, AP: 0.7094\n",
      "Epoch: 085, AUC: 0.6646, AP: 0.7099\n",
      "Epoch: 086, AUC: 0.6645, AP: 0.7108\n",
      "Epoch: 087, AUC: 0.6647, AP: 0.7118\n",
      "Epoch: 088, AUC: 0.6647, AP: 0.7126\n",
      "Epoch: 089, AUC: 0.6645, AP: 0.7128\n",
      "Epoch: 090, AUC: 0.6643, AP: 0.7133\n",
      "Epoch: 091, AUC: 0.6643, AP: 0.7139\n",
      "Epoch: 092, AUC: 0.6645, AP: 0.7146\n",
      "Epoch: 093, AUC: 0.6645, AP: 0.7153\n",
      "Epoch: 094, AUC: 0.6647, AP: 0.7159\n",
      "Epoch: 095, AUC: 0.6646, AP: 0.7162\n",
      "Epoch: 096, AUC: 0.6649, AP: 0.7167\n",
      "Epoch: 097, AUC: 0.6655, AP: 0.7174\n",
      "Epoch: 098, AUC: 0.6663, AP: 0.7181\n",
      "Epoch: 099, AUC: 0.6680, AP: 0.7191\n",
      "Epoch: 100, AUC: 0.6691, AP: 0.7196\n",
      "Epoch: 101, AUC: 0.6706, AP: 0.7204\n",
      "Epoch: 102, AUC: 0.6717, AP: 0.7211\n",
      "Epoch: 103, AUC: 0.6724, AP: 0.7217\n",
      "Epoch: 104, AUC: 0.6736, AP: 0.7225\n",
      "Epoch: 105, AUC: 0.6755, AP: 0.7237\n",
      "Epoch: 106, AUC: 0.6791, AP: 0.7254\n",
      "Epoch: 107, AUC: 0.6840, AP: 0.7279\n",
      "Epoch: 108, AUC: 0.6896, AP: 0.7305\n",
      "Epoch: 109, AUC: 0.6944, AP: 0.7328\n",
      "Epoch: 110, AUC: 0.6990, AP: 0.7350\n",
      "Epoch: 111, AUC: 0.7025, AP: 0.7368\n",
      "Epoch: 112, AUC: 0.7058, AP: 0.7387\n",
      "Epoch: 113, AUC: 0.7084, AP: 0.7401\n",
      "Epoch: 114, AUC: 0.7116, AP: 0.7421\n",
      "Epoch: 115, AUC: 0.7154, AP: 0.7445\n",
      "Epoch: 116, AUC: 0.7192, AP: 0.7468\n",
      "Epoch: 117, AUC: 0.7221, AP: 0.7485\n",
      "Epoch: 118, AUC: 0.7263, AP: 0.7513\n",
      "Epoch: 119, AUC: 0.7300, AP: 0.7535\n",
      "Epoch: 120, AUC: 0.7337, AP: 0.7561\n",
      "Epoch: 121, AUC: 0.7368, AP: 0.7585\n",
      "Epoch: 122, AUC: 0.7393, AP: 0.7602\n",
      "Epoch: 123, AUC: 0.7417, AP: 0.7623\n",
      "Epoch: 124, AUC: 0.7454, AP: 0.7649\n",
      "Epoch: 125, AUC: 0.7483, AP: 0.7671\n",
      "Epoch: 126, AUC: 0.7513, AP: 0.7693\n",
      "Epoch: 127, AUC: 0.7546, AP: 0.7717\n",
      "Epoch: 128, AUC: 0.7574, AP: 0.7738\n",
      "Epoch: 129, AUC: 0.7598, AP: 0.7756\n",
      "Epoch: 130, AUC: 0.7617, AP: 0.7772\n",
      "Epoch: 131, AUC: 0.7637, AP: 0.7786\n",
      "Epoch: 132, AUC: 0.7648, AP: 0.7795\n",
      "Epoch: 133, AUC: 0.7663, AP: 0.7805\n",
      "Epoch: 134, AUC: 0.7671, AP: 0.7811\n",
      "Epoch: 135, AUC: 0.7680, AP: 0.7818\n",
      "Epoch: 136, AUC: 0.7686, AP: 0.7825\n",
      "Epoch: 137, AUC: 0.7693, AP: 0.7832\n",
      "Epoch: 138, AUC: 0.7700, AP: 0.7838\n",
      "Epoch: 139, AUC: 0.7706, AP: 0.7842\n",
      "Epoch: 140, AUC: 0.7715, AP: 0.7849\n",
      "Epoch: 141, AUC: 0.7721, AP: 0.7853\n",
      "Epoch: 142, AUC: 0.7730, AP: 0.7858\n",
      "Epoch: 143, AUC: 0.7735, AP: 0.7860\n",
      "Epoch: 144, AUC: 0.7744, AP: 0.7865\n",
      "Epoch: 145, AUC: 0.7749, AP: 0.7867\n",
      "Epoch: 146, AUC: 0.7758, AP: 0.7870\n",
      "Epoch: 147, AUC: 0.7768, AP: 0.7872\n",
      "Epoch: 148, AUC: 0.7778, AP: 0.7875\n",
      "Epoch: 149, AUC: 0.7787, AP: 0.7881\n",
      "Epoch: 150, AUC: 0.7795, AP: 0.7885\n",
      "Epoch: 151, AUC: 0.7802, AP: 0.7888\n",
      "Epoch: 152, AUC: 0.7810, AP: 0.7894\n",
      "Epoch: 153, AUC: 0.7815, AP: 0.7898\n",
      "Epoch: 154, AUC: 0.7819, AP: 0.7898\n",
      "Epoch: 155, AUC: 0.7825, AP: 0.7903\n",
      "Epoch: 156, AUC: 0.7831, AP: 0.7907\n",
      "Epoch: 157, AUC: 0.7836, AP: 0.7910\n",
      "Epoch: 158, AUC: 0.7835, AP: 0.7908\n",
      "Epoch: 159, AUC: 0.7831, AP: 0.7903\n",
      "Epoch: 160, AUC: 0.7828, AP: 0.7900\n",
      "Epoch: 161, AUC: 0.7834, AP: 0.7906\n",
      "Epoch: 162, AUC: 0.7843, AP: 0.7915\n",
      "Epoch: 163, AUC: 0.7844, AP: 0.7916\n",
      "Epoch: 164, AUC: 0.7845, AP: 0.7918\n",
      "Epoch: 165, AUC: 0.7847, AP: 0.7919\n",
      "Epoch: 166, AUC: 0.7841, AP: 0.7911\n",
      "Epoch: 167, AUC: 0.7836, AP: 0.7903\n",
      "Epoch: 168, AUC: 0.7837, AP: 0.7904\n",
      "Epoch: 169, AUC: 0.7845, AP: 0.7914\n",
      "Epoch: 170, AUC: 0.7851, AP: 0.7917\n",
      "Epoch: 171, AUC: 0.7852, AP: 0.7919\n",
      "Epoch: 172, AUC: 0.7845, AP: 0.7911\n",
      "Epoch: 173, AUC: 0.7835, AP: 0.7900\n",
      "Epoch: 174, AUC: 0.7830, AP: 0.7894\n",
      "Epoch: 175, AUC: 0.7840, AP: 0.7904\n",
      "Epoch: 176, AUC: 0.7844, AP: 0.7910\n",
      "Epoch: 177, AUC: 0.7851, AP: 0.7917\n",
      "Epoch: 178, AUC: 0.7852, AP: 0.7917\n",
      "Epoch: 179, AUC: 0.7843, AP: 0.7907\n",
      "Epoch: 180, AUC: 0.7840, AP: 0.7901\n",
      "Epoch: 181, AUC: 0.7835, AP: 0.7896\n",
      "Epoch: 182, AUC: 0.7834, AP: 0.7894\n",
      "Epoch: 183, AUC: 0.7838, AP: 0.7896\n",
      "Epoch: 184, AUC: 0.7842, AP: 0.7900\n",
      "Epoch: 185, AUC: 0.7846, AP: 0.7904\n",
      "Epoch: 186, AUC: 0.7850, AP: 0.7908\n",
      "Epoch: 187, AUC: 0.7847, AP: 0.7903\n",
      "Epoch: 188, AUC: 0.7845, AP: 0.7902\n",
      "Epoch: 189, AUC: 0.7847, AP: 0.7903\n",
      "Epoch: 190, AUC: 0.7850, AP: 0.7908\n",
      "Epoch: 191, AUC: 0.7850, AP: 0.7908\n",
      "Epoch: 192, AUC: 0.7848, AP: 0.7906\n",
      "Epoch: 193, AUC: 0.7846, AP: 0.7905\n",
      "Epoch: 194, AUC: 0.7845, AP: 0.7905\n",
      "Epoch: 195, AUC: 0.7844, AP: 0.7905\n",
      "Epoch: 196, AUC: 0.7844, AP: 0.7905\n",
      "Epoch: 197, AUC: 0.7845, AP: 0.7906\n",
      "Epoch: 198, AUC: 0.7849, AP: 0.7911\n",
      "Epoch: 199, AUC: 0.7844, AP: 0.7906\n",
      "Epoch: 200, AUC: 0.7838, AP: 0.7900\n",
      "Epoch: 201, AUC: 0.7834, AP: 0.7896\n",
      "Epoch: 202, AUC: 0.7835, AP: 0.7897\n",
      "Epoch: 203, AUC: 0.7838, AP: 0.7898\n",
      "Epoch: 204, AUC: 0.7843, AP: 0.7904\n",
      "Epoch: 205, AUC: 0.7843, AP: 0.7904\n",
      "Epoch: 206, AUC: 0.7842, AP: 0.7904\n",
      "Epoch: 207, AUC: 0.7837, AP: 0.7898\n",
      "Epoch: 208, AUC: 0.7835, AP: 0.7894\n",
      "Epoch: 209, AUC: 0.7835, AP: 0.7894\n",
      "Epoch: 210, AUC: 0.7833, AP: 0.7894\n",
      "Epoch: 211, AUC: 0.7834, AP: 0.7894\n",
      "Epoch: 212, AUC: 0.7840, AP: 0.7899\n",
      "Epoch: 213, AUC: 0.7837, AP: 0.7897\n",
      "Epoch: 214, AUC: 0.7837, AP: 0.7897\n",
      "Epoch: 215, AUC: 0.7836, AP: 0.7897\n",
      "Epoch: 216, AUC: 0.7836, AP: 0.7897\n",
      "Epoch: 217, AUC: 0.7835, AP: 0.7897\n",
      "Epoch: 218, AUC: 0.7836, AP: 0.7899\n",
      "Epoch: 219, AUC: 0.7835, AP: 0.7898\n",
      "Epoch: 220, AUC: 0.7836, AP: 0.7898\n",
      "Epoch: 221, AUC: 0.7836, AP: 0.7896\n",
      "Epoch: 222, AUC: 0.7835, AP: 0.7895\n",
      "Epoch: 223, AUC: 0.7829, AP: 0.7891\n",
      "Epoch: 224, AUC: 0.7829, AP: 0.7890\n",
      "Epoch: 225, AUC: 0.7830, AP: 0.7892\n",
      "Epoch: 226, AUC: 0.7828, AP: 0.7889\n",
      "Epoch: 227, AUC: 0.7827, AP: 0.7887\n",
      "Epoch: 228, AUC: 0.7824, AP: 0.7885\n",
      "Epoch: 229, AUC: 0.7823, AP: 0.7885\n",
      "Epoch: 230, AUC: 0.7819, AP: 0.7882\n",
      "Epoch: 231, AUC: 0.7818, AP: 0.7881\n",
      "Epoch: 232, AUC: 0.7812, AP: 0.7876\n",
      "Epoch: 233, AUC: 0.7810, AP: 0.7874\n",
      "Epoch: 234, AUC: 0.7813, AP: 0.7876\n",
      "Epoch: 235, AUC: 0.7812, AP: 0.7877\n",
      "Epoch: 236, AUC: 0.7812, AP: 0.7877\n",
      "Epoch: 237, AUC: 0.7810, AP: 0.7874\n",
      "Epoch: 238, AUC: 0.7808, AP: 0.7872\n",
      "Epoch: 239, AUC: 0.7804, AP: 0.7870\n",
      "Epoch: 240, AUC: 0.7800, AP: 0.7866\n",
      "Epoch: 241, AUC: 0.7801, AP: 0.7867\n",
      "Epoch: 242, AUC: 0.7803, AP: 0.7869\n",
      "Epoch: 243, AUC: 0.7805, AP: 0.7870\n",
      "Epoch: 244, AUC: 0.7808, AP: 0.7874\n",
      "Epoch: 245, AUC: 0.7807, AP: 0.7874\n",
      "Epoch: 246, AUC: 0.7801, AP: 0.7867\n",
      "Epoch: 247, AUC: 0.7786, AP: 0.7855\n",
      "Epoch: 248, AUC: 0.7784, AP: 0.7853\n",
      "Epoch: 249, AUC: 0.7790, AP: 0.7859\n",
      "Epoch: 250, AUC: 0.7797, AP: 0.7863\n",
      "Epoch: 251, AUC: 0.7800, AP: 0.7866\n",
      "Epoch: 252, AUC: 0.7795, AP: 0.7862\n",
      "Epoch: 253, AUC: 0.7785, AP: 0.7853\n",
      "Epoch: 254, AUC: 0.7780, AP: 0.7847\n",
      "Epoch: 255, AUC: 0.7778, AP: 0.7846\n",
      "Epoch: 256, AUC: 0.7786, AP: 0.7853\n",
      "Epoch: 257, AUC: 0.7792, AP: 0.7859\n",
      "Epoch: 258, AUC: 0.7788, AP: 0.7854\n",
      "Epoch: 259, AUC: 0.7782, AP: 0.7848\n",
      "Epoch: 260, AUC: 0.7776, AP: 0.7845\n",
      "Epoch: 261, AUC: 0.7772, AP: 0.7843\n",
      "Epoch: 262, AUC: 0.7769, AP: 0.7840\n",
      "Epoch: 263, AUC: 0.7769, AP: 0.7842\n",
      "Epoch: 264, AUC: 0.7773, AP: 0.7845\n",
      "Epoch: 265, AUC: 0.7777, AP: 0.7848\n",
      "Epoch: 266, AUC: 0.7774, AP: 0.7845\n",
      "Epoch: 267, AUC: 0.7772, AP: 0.7845\n",
      "Epoch: 268, AUC: 0.7768, AP: 0.7842\n",
      "Epoch: 269, AUC: 0.7758, AP: 0.7834\n",
      "Epoch: 270, AUC: 0.7749, AP: 0.7825\n",
      "Epoch: 271, AUC: 0.7750, AP: 0.7826\n",
      "Epoch: 272, AUC: 0.7766, AP: 0.7840\n",
      "Epoch: 273, AUC: 0.7777, AP: 0.7847\n",
      "Epoch: 274, AUC: 0.7775, AP: 0.7846\n",
      "Epoch: 275, AUC: 0.7759, AP: 0.7836\n",
      "Epoch: 276, AUC: 0.7740, AP: 0.7819\n",
      "Epoch: 277, AUC: 0.7734, AP: 0.7813\n",
      "Epoch: 278, AUC: 0.7743, AP: 0.7822\n",
      "Epoch: 279, AUC: 0.7761, AP: 0.7838\n",
      "Epoch: 280, AUC: 0.7776, AP: 0.7850\n",
      "Epoch: 281, AUC: 0.7776, AP: 0.7850\n",
      "Epoch: 282, AUC: 0.7767, AP: 0.7844\n",
      "Epoch: 283, AUC: 0.7749, AP: 0.7833\n",
      "Epoch: 284, AUC: 0.7729, AP: 0.7810\n",
      "Epoch: 285, AUC: 0.7724, AP: 0.7807\n",
      "Epoch: 286, AUC: 0.7731, AP: 0.7814\n",
      "Epoch: 287, AUC: 0.7749, AP: 0.7833\n",
      "Epoch: 288, AUC: 0.7760, AP: 0.7841\n",
      "Epoch: 289, AUC: 0.7763, AP: 0.7843\n",
      "Epoch: 290, AUC: 0.7756, AP: 0.7840\n",
      "Epoch: 291, AUC: 0.7743, AP: 0.7828\n",
      "Epoch: 292, AUC: 0.7734, AP: 0.7817\n",
      "Epoch: 293, AUC: 0.7730, AP: 0.7813\n",
      "Epoch: 294, AUC: 0.7733, AP: 0.7819\n",
      "Epoch: 295, AUC: 0.7735, AP: 0.7822\n",
      "Epoch: 296, AUC: 0.7741, AP: 0.7831\n",
      "Epoch: 297, AUC: 0.7743, AP: 0.7831\n",
      "Epoch: 298, AUC: 0.7741, AP: 0.7829\n",
      "Epoch: 299, AUC: 0.7729, AP: 0.7818\n",
      "Epoch: 300, AUC: 0.7722, AP: 0.7813\n"
     ]
    }
   ],
   "source": [
    "writer = SummaryWriter('runs/VGAE_experiment_'+'2d_100_epochs')\n",
    "\n",
    "for epoch in range(1, epochs + 1):\n",
    "    loss = train()\n",
    "    auc, ap = test(data.test_pos_edge_index, data.test_neg_edge_index)\n",
    "    print('Epoch: {:03d}, AUC: {:.4f}, AP: {:.4f}'.format(epoch, auc, ap))\n",
    "\n",
    "\n",
    "    writer.add_scalar('auc train',auc,epoch) # new line\n",
    "    writer.add_scalar('ap train',ap,epoch)   # new line"
   ],
   "metadata": {
    "collapsed": false,
    "pycharm": {
     "name": "#%%\n"
    }
   }
  }
 ],
 "metadata": {
  "kernelspec": {
   "display_name": "Python 3",
   "language": "python",
   "name": "python3"
  },
  "language_info": {
   "codemirror_mode": {
    "name": "ipython",
    "version": 2
   },
   "file_extension": ".py",
   "mimetype": "text/x-python",
   "name": "python",
   "nbconvert_exporter": "python",
   "pygments_lexer": "ipython2",
   "version": "2.7.6"
  }
 },
 "nbformat": 4,
 "nbformat_minor": 0
}